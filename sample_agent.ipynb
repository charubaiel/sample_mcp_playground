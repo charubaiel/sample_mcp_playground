{
 "cells": [
  {
   "cell_type": "code",
   "execution_count": null,
   "id": "4168a736",
   "metadata": {},
   "outputs": [],
   "source": [
    "import json\n",
    "from clients.mcp_client import MCPClient\n",
    "from clients.llm_client import ModelRaw"
   ]
  },
  {
   "cell_type": "code",
   "execution_count": 26,
   "id": "26ff41e0",
   "metadata": {},
   "outputs": [
    {
     "data": {
      "text/plain": [
       "[Tool(name='duckduckgo_search', description='Search query in internet via DuckDuckGo Search enginre', inputSchema={'type': 'object', 'properties': {'search_query': {'type': 'string', 'description': 'The input text to search through'}}}, annotations=None),\n",
       " Tool(name='reddit_search', description='Search query in reddit, return fetched posts with comment and information', inputSchema={'type': 'object', 'properties': {'search_query': {'type': 'string', 'description': 'The input text to search through'}}}, annotations=None),\n",
       " Tool(name='parse_url', description='Parse indeep info from web page. Get url and return all information than page have', inputSchema={'type': 'object', 'properties': {'url': {'type': 'string', 'description': 'url of web resource'}}}, annotations=None)]"
      ]
     },
     "execution_count": 26,
     "metadata": {},
     "output_type": "execute_result"
    }
   ],
   "source": [
    "mcp_client = MCPClient('http://127.0.0.1:7860/gradio_api/mcp/sse')\n",
    "tools_ = await mcp_client.list_tools()\n",
    "tools_.tools"
   ]
  },
  {
   "cell_type": "code",
   "execution_count": 3,
   "id": "d3fa7965",
   "metadata": {},
   "outputs": [],
   "source": [
    "# format tools for model\n",
    "json_tools = [{'type':'function','function':json.loads(tool.model_dump_json())} for tool in tools_.tools]"
   ]
  },
  {
   "cell_type": "code",
   "execution_count": 4,
   "id": "9a686f7c",
   "metadata": {},
   "outputs": [
    {
     "data": {
      "text/plain": [
       "{'type': 'function',\n",
       " 'function': {'name': 'reddit_search',\n",
       "  'description': 'Search query in reddit, return fetched posts with comment and information',\n",
       "  'inputSchema': {'type': 'object',\n",
       "   'properties': {'search_query': {'type': 'string',\n",
       "     'description': 'The input text to search through'}}},\n",
       "  'annotations': None}}"
      ]
     },
     "execution_count": 4,
     "metadata": {},
     "output_type": "execute_result"
    }
   ],
   "source": [
    "json_tools[1]"
   ]
  },
  {
   "cell_type": "code",
   "execution_count": null,
   "id": "975f7d27",
   "metadata": {},
   "outputs": [],
   "source": [
    "model = ModelRaw('http://0.0.0.0:8001/v1',\n",
    "                mcp_client = mcp_client,\n",
    "                SYSTEM_PROMPT='''Ты умный помошник для работы с данными. Твоя задача ответить на вопрос пользователя используя максимум доступной тебе информации.\n",
    "                                Если тебе ее не хватает - обязательно используй доступные тебе инструменты.\n",
    "                                Не выдумывай факты. Если есть возможность получить информацию из нескольких источников сразу - получай из всех доступных.\n",
    "                                Ты можешь одновременно использовать неограниченное количество инструментов за раз.\n",
    "                                Не завершай задачу пока не будешь уверен в результате.\n",
    "                                Всегда составляй план перед запросом и действуй по шагам\n",
    "                                ''')\n",
    "await model.__init_mcp__()"
   ]
  },
  {
   "cell_type": "markdown",
   "id": "08875dc3",
   "metadata": {},
   "source": [
    "### Raw answer"
   ]
  },
  {
   "cell_type": "code",
   "execution_count": 15,
   "id": "05baf48e",
   "metadata": {},
   "outputs": [],
   "source": [
    "raw_answer = await model.ainvoke([{'role':'user','content':'Какие новости сейчас есть про модель Gemma 3n?'}],tools=[])"
   ]
  },
  {
   "cell_type": "code",
   "execution_count": 16,
   "id": "66d17916",
   "metadata": {},
   "outputs": [
    {
     "name": "stdout",
     "output_type": "stream",
     "text": [
      "\n",
      "Хорошо, пользователь спрашивает, какие новости сейчас есть про модель Gemma 3n. Сначала мне нужно понять, что такое Gemma 3n. Возможно, это версия модели Gemma, но в предыдущих данных не было упоминания о такой версии. Возможно, это опечатка или неправильное название. Нужно проверить, есть ли такая модель.\n",
      "\n",
      "Сначала проверю, существует ли модель Gemma 3. В предыдущих данных говорилось о модели Gemma 2, которая является улучшенной версией Gemma 1. Возможно, пользователь имеет в виду Gemma 2, но написал 3n. Или, возможно, это новая версия, которая не была упомянута в предыдущих данных.\n",
      "\n",
      "Теперь нужно проверить, есть ли информация о Gemma 3n в доступных источниках. Поскольку у меня есть доступ к инструментам, я могу использовать поисковые функции, чтобы найти последние новости. Но, возможно, в доступных данных нет информации о Gemma 3n, поэтому нужно уточнить у пользователя, возможно, это опечатка.\n",
      "\n",
      "Также стоит проверить, есть ли связь между Gemma 3n и другими моделями, например, Llama 3, так как Gemma может быть частью серии, связанной с Llama. Возможно, пользователь имеет в виду Llama 3, но написал Gemma 3n.\n",
      "\n",
      "В итоге, если в доступных данных нет информации о Gemma 3n, то нужно сообщить пользователю, что не найдено, но предложить уточнить запрос или проверить, возможно, это опечатка.\n",
      "\n"
     ]
    }
   ],
   "source": [
    "print(raw_answer['choices'][0]['message']['reasoning_content'])"
   ]
  },
  {
   "cell_type": "code",
   "execution_count": 17,
   "id": "a705fe4e",
   "metadata": {},
   "outputs": [
    {
     "name": "stdout",
     "output_type": "stream",
     "text": [
      "\n",
      "\n",
      "На текущий момент нет информации о модели \"Gemma 3n\" в доступных данных. Возможно, вы имеете в виду:\n",
      "\n",
      "1. **Gemma 2** — улучшенная версия модели Gemma 1, которая была анонсирована в 2023 году. Она предлагает улучшенные параметры, производительность и поддержку множества языков.\n",
      "\n",
      "2. **Llama 3** — последняя версия серии Llama, разработанная Meta. Она имеет более крупные параметры и улучшенные функции, но не связана напрямую с Gemma.\n",
      "\n",
      "Рекомендую уточнить, возможно, вы имеете в виду другую модель или версию. Если нужно, могу проверить актуальные новости через внешние источники.\n"
     ]
    }
   ],
   "source": [
    "print(raw_answer['choices'][0]['message']['content'])"
   ]
  },
  {
   "cell_type": "code",
   "execution_count": null,
   "id": "19e1368a",
   "metadata": {},
   "outputs": [],
   "source": []
  },
  {
   "cell_type": "markdown",
   "id": "6258003b",
   "metadata": {},
   "source": [
    "# MCP Powered Model"
   ]
  },
  {
   "cell_type": "markdown",
   "id": "510ec9ef",
   "metadata": {},
   "source": [
    "### simple call"
   ]
  },
  {
   "cell_type": "code",
   "execution_count": 18,
   "id": "dce4650d",
   "metadata": {},
   "outputs": [],
   "source": [
    "import asyncio"
   ]
  },
  {
   "cell_type": "code",
   "execution_count": 23,
   "id": "e4238379",
   "metadata": {},
   "outputs": [],
   "source": [
    "# Function to parallel call functionss\n",
    "async def parallel_func_calls(requested_tools:list):\n",
    "    func_answers = await asyncio.gather(*[mcp_client.invoke_tool(\n",
    "                                                    name = tool['function']['name'],\n",
    "                                                    arguments = json.loads(tool['function']['arguments']),\n",
    "                                                    )\n",
    "                                        for tool in requested_tools])\n",
    "    print([tool['function']['name'] for tool in requested_tools])\n",
    "    return {'role':'tool','content':'\\n\\n'.join([func.content for func in func_answers])}\n"
   ]
  },
  {
   "cell_type": "code",
   "execution_count": 36,
   "id": "0e3f8455",
   "metadata": {},
   "outputs": [
    {
     "name": "stdout",
     "output_type": "stream",
     "text": [
      "['reddit_search', 'duckduckgo_search']\n"
     ]
    }
   ],
   "source": [
    "func_answers = await parallel_func_calls(\n",
    "    requested_tools=[\n",
    "        {\"function\": {\n",
    "                \"name\": \"reddit_search\",\n",
    "                \"arguments\":json.dumps({\"search_query\": \"Who is Post Malown?\"})}},\n",
    "        {\"function\": {\n",
    "                \"name\": \"duckduckgo_search\",\n",
    "                \"arguments\":json.dumps({\"search_query\": \"Who is Post Malown?\"}),\n",
    "            }\n",
    "        },\n",
    "    ]\n",
    ")"
   ]
  },
  {
   "cell_type": "code",
   "execution_count": 39,
   "id": "1543fb4b",
   "metadata": {},
   "outputs": [
    {
     "name": "stdout",
     "output_type": "stream",
     "text": [
      "{\"type\":\"text\",\"text\":\"{'headers': ['index', 'comments', 'score', 'comment_count'], 'data': [['PvE Retribution Paladin Guide: How to get your guild to take you seriously.', [\\\"tl;dr\\\\n\\\\nYou can raid as a Ret paladin son, but boy you're gonna have to suck a lot of dicks.\\\", 'make friends, contribute, be nice', 'No self respecting man should ever kiss this much ass.', \\\"Oh dear, where to begin.\\\\n\\\\nYou focus entirely on Nightfall. Which sucks. Nearly nobody wants to raid as a ret paladin and just be the Nightfall bot, who works his ass off and doesn't get any gear unless nobody needs it anymore because their only purpose is applying Nightfall. If that's good enough for you, fine, but making a guide, saying that this is the ONLY way you can play ret in pve and every ret must go for this, is ludicrous. Nightfall is necessary to have and if you feel the need you should switch to it, as it provides a raid dps increase when raiding as AP ret, yes, but using it all the time is a no go for me and many others. You also ignore spelladin ret.\\\\n\\\\nThe problems begin with you recommending dwarf, human is far superior due to the weapon skill. Yes, it doesn't matter when using Nightfall, but by going dwarf you pretty much gimp yourself to be a nightfall bot already, because you miss a very powerful pve racial.\\\\n\\\\nThen the spec, two question marks for me. guardians favor 2/2 instead of repentance. Why? Vindication 1 point why? It procs on bosses and blocks a debuff slot. Also why those alts and a recommendation not to farm? This is pretty much the best paladin farm build. You'll certainly lose more time levelling two chracters to 60 than you lsoe from farming a bit slower with your ret.\\\\n\\\\nA few tidbits about the gear, I could argue more about it, but it's a lot of personal preference and points where there certainly is contention. You also need those 3% extra hit comapred to a normal pve ret by going pure nightfall. So I limit myself to the objective problems:\\\\n\\\\npre-bis: \\\\n\\\\n* Arcanite Reaper. Why? It's marginally better than Demonshear or Malowns Slam. Both are much easier and cheaper to obtain and benefit from human weapon skill bonus, which makes them better than arcanite reaper. Completely stupid to recommend this weapon. \\\\n\\\\n* Your gear has 5% hit. What? That's too much for human and not enough for dwarf. Human needs 3%, dwarf needs 6%. \\\\n\\\\n* Libram: good luck getting a libram pre-bis, those are phase 5 items.\\\\n\\\\nphase 1:\\\\n\\\\n* Nightfall, good luck getting that phase 1, it's a phase 3 item. Also, if you truly think Nightfall is availble in p1, making arcanite reaper is even sillier as you would pretty soon after craft another weapon.\\\\n\\\\nphase 1-4:\\\\n\\\\n* generally lacks spelldmg. Rank 12 and 13 pvp items, yeah, technically good. But putting the blue ones here is more realistic.\\\\n\\\\nphase 5:\\\\n\\\\n* Wtf is up with suddenly using dmg proc trinkets? What's the point? Neither scales with spellpower and while I'd accept Maelstrom as possibly useful, I'd need more testing on this, heart of wyrmthalak certainly isn't good enough. And if maelstrom is useful, you could have put this in much earlier, as it's available from Phase 3.\\\\n* Gauntlets of the righteous champion. Those are nice on paper, but compared to annihilation, you lose 20 str and 1% hit for 16 spelldmg and 13 int. I do understand adding them here, as you generally want to pass on annihilation in favor of the fury warriors and righteous champion is only useful to a ret, but technically, they aren't bis.\\\\n* Ossirians binding. I don't get it, compared to Onslaught, you trade 31 str for 20 agi and 10 int. That's a downgrade. Since you have onslaught on your list in previous phases, this is puzzling.\\\\n\\\\nOverall, I'm not a fan of this guide. You advocate a ret paladin playstyle, where you are a nightfall bot, who also spends his time and mana cleansing the raid of debuffs instead of maximizing dps. Yes, that playstyle is fair enough, no problem with that, you play a pure support raid, who helps his raid and doesn't care about personal dps. But to advocate this playstyle and at the same time advocate farming consumables like crazy and spending tons of gold on expensive crafts like arcanite reaper and lionheart helm just so you can pad your dps, which you already gimp by using nightfall and spending your mana on cleansing instead of consecration is ludicrous. \\\\n\\\\nNightfall ret is the lazy build, it's the ret build you use, when you want a raid spot without spending too much time. Going the extra mile, to squeeze a little more dps out of this, just so it's only slightly behind a normal AP ret build without all those consumables is pretty silly.\\\", 'I only want to raid as ret in order to get gear for ret for pvp. If I go Holy to help the raid more, what are my chances of still getting ret gear?', \\\"You want to check your list again for phases, for example Libram of Hope drops from Isalien and she won't be in game before Phase 5 yet you include the libram in your phase 1 list\\\", 'INB4 LOLRET', 'PvE Retribution Paladin Guide: How to get your guild to take you seriously.\\\\n\\\\n- step 1: pretend to be holy specced\\\\n- step 2: heal in raids\\\\n- step 3: ?\\\\n- step 4: profit', 'You missed the most valuable thing about having one ret pally in the raid; as a yardstick. anyone doing lower dps than the ret pally is doing it wrong and can lose their raid spot to someone who doesnt suck.', 'How to be taken seriously as Ret: Create a warrior & name it Ret', \\\"Tldr:\\\\n\\\\nYou can play ret, but u don't.\\\\nEven with absolute end game gear, you will deal 0 damage, your only purpose in raids is to keep the nightfall debuff up.\\\\n\\\\nAnd guess what, there are better classes for it, hunters with wing clip for example.\\\\n\\\\nI really appreciate your effort here, but I don't think that modern guilds will equip a ret pala like this. You will get your gear over time, but after the classes who can actually do something useful in raids with it.\\\", 'Praised be', 'Crap talking aside, this is a fantastic, thoughtful and thorough guide.  GG.', \\\"Have you looked at the idea of Spell Power Paladins - Support Ret Paladin's that have stronger healing via Spell Power ?\\\\n\\\\nBTW great write-up that i will recommend peeps.\\\", 'Waste of wall of text there:\\\\nStep 1 - Respec Holy.', 'Nice stuff here', \\\"> Level 60 Mage Alt. (For food/water (you will need a lot for daily stuff; while not 100% necessary, highly useful for gathering professions).\\\\n\\\\nExplain this one since you can't mail conjured items. I wouldn't call a separate account an Alt.\\\", \\\"'do all this crap to be as good as a prot warrior using a nightfall'\\\", 'Hunter with Wingclip spam has much much higher Nightfall uptime, why would you give the job to a Paladin?', \\\"How to get your guild to take you seriously: don't try to raid as ret\\\", 'Ima let everyone here in on a secret weapon (literally) for paladins\\\\n\\\\nBlackblade of Shahram', 'reading this guide for 5 minutes made me feel actually dirty', 'ITT: a fucking ton of fury warriors trying to scare Rey pallys away from their loot.', '[deleted]', '“You need to have good social skills and not be an autist”\\\\n\\\\nMost folks with autism are actually quite nice, intelligent, and have social skills. Not sure why you’d include something as ignorant as this in your guide.', 'Rets are the worst nightfall wielders since they lack instant attacks.', 'Curiously why use SotC over SoR?', '>How to get your guild to take you seriously\\\\n\\\\nRespec Holy.', 'TLDR', \\\"I would never raid with a guild that used priority lists over a dkp type system that was actually fair relative to the time and effort invested. Especially in a game where there are never going to be new expansions to obsolete the old content. Being a good comrade for the guild so they can clear a bit faster while forgoing rewards is stupid and you'll regret it unless really just want to be in a guild that can say they are a top guild? \\\\n\\\\nIn the worst case it also opens the doors to abuse because someone is making decisions based on fiat. Inevitability you will have people at the top abusing their power. Giving gear to alts and friends over the people who put in the work.\\\", \\\"Surely there are better things to swing than nightfall all of the time? And in your experience are there any things that are actually ret priority or you have reasonable claim to? I would imagine sulfuras going to a serious ret before anyone else for example because it's a damn near blackhole of mats and kinda garbage for everyone other than a ret pally. I feel bad that the stigma will have ret paladins passed over for nice upgrades just so other people can have trophies and look pretty in ironforge gear.\\\", 'you can have one of your holy paladins do blessing of light, with talents they only need to reapply it every 40 seconds, or they can just autoattack in between heals.\\\\n\\\\nAlso a nightfall hunter is way better than a nightfall paladin for the sake of keeping nightfall debuff up\\\\n\\\\n&#x200B;\\\\n\\\\nOther than that, nice guide, looks like you put a lot of effort into it', 'based AND retpilled, holy shit', 'Imagine taking E4E and 1/3 Vindication in a raid spec, and then not getting ImpMight...', \\\"We clean'd AQ40 in vanilla with a ret pal, a spriest and a feral tank. The ret didn't wore nightfall.   \\\\n  \\\\nSure i think going to naxx would have required more min-max, but for 80% guilds, there's a spot for meme spec, as long as people are willing to go the extra mile.\\\", \\\"> Showing up with these buffs naked is often more powerful than showing up in full BIS. It's scary\\\\n\\\\n&#x200B;\\\\n\\\\nalmost  sounds like this is an exploit that should be fixed.\\\"], 68, 204]], 'metadata': None}\",\"annotations\":null}\n",
      "\n",
      "{\"type\":\"text\",\"text\":\"|    | title                                                                | href                                                                           | body                                                                                                                                                                                                                                                                                                                                 |\\n|---:|:---------------------------------------------------------------------|:-------------------------------------------------------------------------------|:-------------------------------------------------------------------------------------------------------------------------------------------------------------------------------------------------------------------------------------------------------------------------------------------------------------------------------------|\\n|  0 | Post Malone - Wikipedia                                              | https://en.wikipedia.org/wiki/Post_Malone                                      | Austin Richard Post (born July 4, 1995), [1] known professionally as Post Malone, is an American rapper, singer, songwriter, record producer, and actor. [2][3] His music blends various genres including hip-hop, pop, R&B, trap, and country. His stage name was created when he put his birth name into a rap name generator. [4] |\\n|  1 | Post Malone: Biography, Musician, Rapper, 2025 Grammy Nominee        | https://www.biography.com/musicians/a62407330/post-malone                      | Who Is Post Malone? Musician Post Malone is known for hit singles such as \\\"Rockstar,\\\" \\\"Circles,\\\" and \\\"I Had Some Help,\\\" his No. 1 song with country star Morgan Wallen.                                                                                                                                                              |\\n|  2 | Post Malone - Biography - IMDb                                       | https://www.imdb.com/name/nm7970428/bio/                                       | Post Malone. Actor: Spider-Man: Into the Spider-Verse. Austin Richard Post, known professionally as Post Malone, is an American rapper, singer, songwriter and record producer. Post was born in Syracuse, New York, the son of Nicole (Frazier) Lake, from Walton, NY, and Richard Lloyd Post, Jr.                                  |\\n|  3 | Post Malone Biography - Facts, Childhood, Family Life & Achievements | https://www.thefamouspeople.com/profiles/post-malone-41888.php                 | Post Malone, born as Austin Richard Post, is an American rapper, singer-songwriter, and record producer. One of the emerging new talents in the hip-hop industry, he is best known for his debut track \\\"White Iverson\\\", a song that peaked at #14 on the Billboard Hot 100 chart and was later certified quadruple platinum by RIAA. |\\n|  4 | Post Malone | Biography, Music & News - Billboard                    | https://www.billboard.com/artist/post-malone/                                  | Post Malone (real name Austin Richard Post) was born in Syracuse, N.Y., and moved to Grapevine, Texas, when he was about 10. His height is 6'0\\\", and his birthday is July 4, 1995. Breaking...                                                                                                                                       |\\n|  5 | Post Malone - Simple English Wikipedia, the free encyclopedia        | https://simple.wikipedia.org/wiki/Post_Malone                                  | Austin Richard Post (born July 4, 1995), [1] known professionally as Post Malone, is an American rapper, singer, and songwriter. [4] [5] [6] He has gained acclaim for blending musical genres including pop, hip hop, trap, and rock, [7] his introspective songwriting, and his laconic vocal style.                               |\\n|  6 | Post Malone Lyrics, Songs, and Albums - Genius                       | https://genius.com/artists/Post-malone                                         | Austin Richard Post (born July 4, 1995), better known by his stage name Post Malone, is an American rapper, singer, songwriter, record producer, and guitarist signed to Republic Records.                                                                                                                                           |\\n|  7 | Post Malone age, hometown, biography - Last.fm                       | https://www.last.fm/music/Post+Malone/+wiki                                    | Austin Richard Post, known professionally as Post Malone, is an American rapper, singer, songwriter, record producer, and actor, born on July 4, 1995. He is recognized for blending a variety of music genres, including hip-hop, pop, R&B, trap, and country.                                                                      |\\n|  8 | Who Is Post Malone: The American Music Sensation                     | https://fashionticky.com/who-is-post-malone/                                   | Post Malone, born on July 4, 1995, is an American rapper, singer, songwriter, and record producer. He gained widespread recognition with his debut single \\\"White Iverson\\\" in 2015. Known for his genre-blending music that incorporates elements of hip-hop, pop, and rock, he has become a prominent figure in the music industry.  |\\n|  9 | Everything to know about Post Malone: From rap to country            | https://hellorayo.co.uk/absolute-radio-country/entertainment/music/post-malone | Who is Post Malone? Post Malone is an American rapper, singer, songwriter, record producer and also guitarist. A man of many talents, Post Malone has become a name synonymous with modern music, due to his unique blend of genres.                                                                                                 |\",\"annotations\":null}\n"
     ]
    }
   ],
   "source": [
    "print(func_answers['content'])"
   ]
  },
  {
   "cell_type": "markdown",
   "id": "c59d543a",
   "metadata": {},
   "source": [
    "### Main soup from different loop"
   ]
  },
  {
   "cell_type": "code",
   "execution_count": 66,
   "id": "9033dea9",
   "metadata": {},
   "outputs": [
    {
     "name": "stdout",
     "output_type": "stream",
     "text": [
      "Step 0 : tool_calls\n",
      "['duckduckgo_search', 'reddit_search']\n",
      "Step 1 : stop\n"
     ]
    }
   ],
   "source": [
    "request = 'Расскажи мне краткую историю создания Властелина колец. Используй как можно больше источников.'\n",
    "\n",
    "messages = [\n",
    "    {'role':'user','content':request}\n",
    "]\n",
    "\n",
    "n = 0\n",
    "tools = None\n",
    "finish_reason = 'initial_question'\n",
    "while finish_reason not in ('stop','length'):\n",
    "\n",
    "    response = await model.ainvoke(messages,tools=tools)\n",
    "    finish_reason = response['choices'][0]['finish_reason']\n",
    "    print(f'Step {n} : {finish_reason}')\n",
    "        \n",
    "\n",
    "    if response['choices'][0]['message']['tool_calls']: \n",
    "        messages.append(await parallel_func_calls(response['choices'][0]['message']['tool_calls']))  \n",
    "    else:\n",
    "        messages.append({'role':'assistant','content':response['choices'][0]['message']['content']})\n",
    "                    \n",
    "    n+=1"
   ]
  },
  {
   "cell_type": "code",
   "execution_count": 67,
   "id": "3bd2c785",
   "metadata": {},
   "outputs": [
    {
     "name": "stdout",
     "output_type": "stream",
     "text": [
      "\n",
      "Хорошо, мне нужно рассказать краткую историю создания \"Властелина колец\" используя как можно больше источников. Давайте посмотрю на информацию, которую я получил.\n",
      "\n",
      "Сначала, из первого ответа видно, что история создания начинается в 1937 году и заканчивается в 1954-1955 годах. Джон Р. Р. Толкин начал разрабатывать мир Средиземья задолго до написания романа. В 1930-х годах он начал создавать свой фантастический мир, что стало основой для \"Властелина колец\". Также упоминается, что роман был написан в 1954 году, но процесс создания занял несколько десятилетий.\n",
      "\n",
      "Вот еще детали: Толкин был лингвистом и преподавателем в Оксфордском университете. Он создал множество элементов, включая языки, исторические сюжеты, которые позже были использованы в романе. Также есть информация о том, что он разрабатывал идею в 1930-х, а написание романа заняло годы, с перерывами.\n",
      "\n",
      "Нужно объединить эти сведения, проверить, нет ли противоречий, и структурировать историю по времени. Также можно добавить, что роман был опубликован в 1954-1955 годах, и что процесс создания был долгим и сложным, включая разработку мира, языков, историй, которые позже стали частью романа.\n",
      "\n",
      "Стоит упомянуть, что Толкин не сразу написал роман, а постепенно создавал элементы, которые впоследству были объединены. Также, возможно, есть информация о том, что он писал другие произведения, которые были связаны с Средиземьем, и как это повлияло на \"Властелина колец\".\n",
      "\n",
      "Нужно проверить, все ли источники согласуются. Например, один источник говорит, что роман был написан в 1954 году, другой упоминает, что началось в 1937, но это, вероятно, относится к разработке мира. Важно не перепутать начало разработки с началом написания романа.\n",
      "\n",
      "Также стоит отметить, что Толкин не был первым, кто придумал идею фэнтези, но его работа стала классикой в этом жанре. Возможно, есть информация о том, что он писал роман поэтапно, с перерывами, и что он включал в себя различные элементы, которые были разработаны в течение нескольких десятилетий.\n",
      "\n",
      "Теперь структурирую все это в краткую историю, используя информацию из нескольких источников, чтобы показать, как Толкин постепенно создал мир Средиземья и, в конечном итоге, написал роман.\n",
      "\n"
     ]
    }
   ],
   "source": [
    "print(response['choices'][0]['message']['reasoning_content'])"
   ]
  },
  {
   "cell_type": "code",
   "execution_count": 68,
   "id": "6b2c16c5",
   "metadata": {},
   "outputs": [
    {
     "name": "stdout",
     "output_type": "stream",
     "text": [
      "\n",
      "\n",
      "Краткая история создания \"Властелина колец\" основана на данных из нескольких источников:\n",
      "\n",
      "1. **Начало разработки мира (1930-е годы):**  \n",
      "   Джон Р. Р. Толкин начал создавать фантастический мир Средиземья в 1930-х годах. Он был лингвистом и преподавателем в Оксфордском университете, что повлияло на его интерес к языкам и истории. В этот период он разработал основы саги, включая языки (например, Келдорийский), исторические сюжеты и кultureльные элементы, которые позже стали частью романа.\n",
      "\n",
      "2. **Написание романа (1954–1955 годы):**  \n",
      "   Основное написание \"Властелина колец\" началось в 1954 году, но процесс создания занимал несколько десятилетий. Толкин не сразу написал роман — он постепенно объединил разработанные элементы, включая сагу о Средиземье, языки, исторические события и персонажей. Роман был опубликован в 1954–1955 годах издательством Allen & Unwin.\n",
      "\n",
      "3. **Долгий и сложный процесс:**  \n",
      "   История создания романа описана как многолетний процесс. Толкин не был \"однажды\" автором — он систематически разрабатывал мир, включая сюжеты, языки и исторические саги, которые позже были объединены в \"Властелине колец\". Например, идея Средиземья возникла в 1937 году, но окончательное написание романа заняло годы.\n",
      "\n",
      "4. **Популярность и влияние:**  \n",
      "   Роман стал одним из самых известных произведений фэнтези, вдохновивший множество авторов и культурных продуктов. Его создание стало символом сочетания творческого процесса и долгой подготовки.\n",
      "\n",
      "**Источники:**  \n",
      "- Википедия: [История создания \"Властелина колец\"](https://ru.wikipedia.org/wiki/История_создания_романа_«Властелин_колец»)  \n",
      "- Статья \"История написания 'Властелина колец'\": [mksegment.ru](https://mksegment.ru/a/istoriya-napisaniya-vlastelina-kolec)  \n",
      "- Статья \"История создания романа Толкиена\": [lang-lit.ru](https://lang-lit.ru/2016/04/istoriya-sozdaniya-romana-tolkiena-vlastelin-kolets.html)  \n",
      "\n",
      "Таким образом, \"Властелин колец\" — это результат десятилетий подготовки, создания мира и систематического написания, которое началось в 1930-х и завершилось в 1950-х годах.\n"
     ]
    }
   ],
   "source": [
    "print(response['choices'][0]['message']['content'])"
   ]
  },
  {
   "cell_type": "markdown",
   "id": "62f90786",
   "metadata": {},
   "source": [
    "### Embedded Model"
   ]
  },
  {
   "cell_type": "code",
   "execution_count": null,
   "id": "db2c0732",
   "metadata": {},
   "outputs": [
    {
     "name": "stdout",
     "output_type": "stream",
     "text": [
      "Step 0 : tool_calls\n",
      "['duckduckgo_search']\n",
      "Step 1 : stop\n"
     ]
    }
   ],
   "source": [
    "answer = await model.precess_request('Какие новости сейчас есть про модель Gemma 3n?',steps_limit=4)"
   ]
  },
  {
   "cell_type": "code",
   "execution_count": 71,
   "id": "1cbc6222",
   "metadata": {},
   "outputs": [
    {
     "name": "stdout",
     "output_type": "stream",
     "text": [
      "\n",
      "Хорошо, мне нужно обработать информацию о новостях про модель Gemma 3n, которые были получены через search. Сначала я должен проанализировать данные, которые были возвращены из search. \n",
      "\n",
      "Сначала посмотрю на структуру данных. В ответе есть таблица с несколькими новостями, каждая из которых имеет заголовок, ссылку и тело. Мне нужно извлечь ключевые моменты из каждой из этих новостей.\n",
      "\n",
      "Первое, что бросается в глаза, это то, что Google на конференции I/O 2025 представила Gemma 3n. Это основная новость. В первой новости говорится, что модель работает с 2 ГБ памяти и без подключения к облаку. Вторая новость упоминает, что модель предназначена для мобильных устройств. Третья новость говорит о локальном использовании и поддержке разных форматов, таких как текст, изображения, видео и аудио. Четвертая новость упоминает, что это мультимодальная модель. Пятая новость подчеркивает легкость и скорость модели для работы на устройствах. Шестая новость говорит о расширении семейства Gemma, включая MedGemma и SignGemma. Седьмая новость упоминает, что Gemma 3n может работать на устройствах с 2 ГБ ОЗУ. Восьмая новость говорит о том, что модель теперь может работать на смартфонах, ноутбуках и планшетах. Девятая новость упоминает, что модель может работать на телефонах.\n",
      "\n",
      "Теперь нужно собрать все эти факты в структурированную информацию. Нужно определить основные особенности Gemma 3n: мобильная оптимизация, локальное выполнение, поддержка разных типов данных, низкие требования к ресурсам, мультимодальность, расширение семейства Gemma, наличие поддержки 140 языков, сравнение с конкурентами.\n",
      "\n",
      "Также важно отметить, что модель доступна для локального использования, что делает её отличной для приложений, где требуется конфиденциальность и сокращение времени ответа. Нужно убедиться, что все ключевые моменты из каждой новости включены, и нет повторений. Возможно, некоторые новости повторяют одни и те же факты, поэтому нужно объединить их.\n",
      "\n",
      "Проверю, нет ли противоречий в данных. Например, в одной новости говорится о 2 ГБ памяти, а в другой — о 128 тысяч токенов в контексте. Важно убедиться, что все факты точны и правильно отражены. Также нужно проверить, нет ли упущенных важных деталей, например, поддержка 140 языков, использование H100 GPU, сравнение с конкурентами.\n",
      "\n",
      "Теперь структурирую информацию в виде краткого резюме, включающее основные особенности, основные новости и ссылки на источники. Убедиться, что все важные пункты учтены и информация представлена ясно и лаконично.\n",
      "\n"
     ]
    }
   ],
   "source": [
    "print(answer['choices'][0]['message']['reasoning_content'])"
   ]
  },
  {
   "cell_type": "code",
   "execution_count": 72,
   "id": "e5fabcbf",
   "metadata": {},
   "outputs": [
    {
     "name": "stdout",
     "output_type": "stream",
     "text": [
      "\n",
      "\n",
      "Вот краткое резюме новостей о модели **Gemma 3n**:\n",
      "\n",
      "### Основные новости:\n",
      "1. **Представлена на Google I/O 2025**  \n",
      "   - Google на конференции I/O 2025 анонсировала модель **Gemma 3n** — новую версию семейства Gemma, предназначенную для локального использования на мобильных устройствах, ноутбуках и планшетах.\n",
      "\n",
      "2. **Мобильная оптимизация**  \n",
      "   - Модель работает с **2 ГБ ОЗУ**, что делает её подходящей для устройств с ограниченными ресурсами.  \n",
      "   - Поддержка **140 языков** и возможность работы **без подключения к облаку**.\n",
      "\n",
      "3. **Мультимодальность**  \n",
      "   - Поддержка **текста, изображений, видео и аудио**.  \n",
      "   - Включает функции, такие как **RAG (Retrieval-Augmented Generation)** и **мультимодальные трансформеры**.\n",
      "\n",
      "4. **Расширение семейства Gemma**  \n",
      "   - Введены новые версии: **MedGemma** (для медицинских приложений) и **SignGemma** (для перевода жестов).  \n",
      "   - Семейство Gemma теперь включает модели для **здравоохранения, доступности и локальных решений**.\n",
      "\n",
      "5. **Высокая производительность**  \n",
      "   - Контекстное окно до **128 000 токенов**.  \n",
      "   - На тестах **Chatbot Arena** Gemma 3n превосходит конкурентов, требуя только **1 GPU NVIDIA H100**.\n",
      "\n",
      "6. **Локальное выполнение**  \n",
      "   - Модель доступна через **библиотеки RAG** и поддерживает **локальные решения без облачных вычислений**.\n",
      "\n",
      "### Ссылки на источники:\n",
      "- [Google I/O 2025](https://overclockers.ru/blog/Global_Chronicles/show/225413/Google-predstavila-Gemma-3n-II-model-rabotajuschuju-s-2-GB-pamyati-i-bez-podkljucheniya-k-oblaku)\n",
      "- [Анонс модели Gemma 3n](https://aigenom.ru/article/google-predstavil-novoe-ai-model-gemma-rabotayuschuyu-na-mobilnyh-ustroystvah)\n",
      "- [Мультимодальность и RAG](https://www.appercase.ru/news/72790/)\n",
      "- [Сравнение с конкурентами](https://4pda.to/2025/03/12/439677/novaya_ii_model_google_gemma_3_prevoskhodit_konkurentov_i_podderzhivaet_bolee_140_yazykov)\n",
      "\n",
      "### Вывод:\n",
      "**Gemma 3n** — это легкая, быстрая и мультимодальная модель, оптимизированная для мобильных и локальных решений. Её появление расширяет возможности семейства Gemma, делая её привлекательной для разработчиков, нуждающихся в конфиденциальности и низких требованиях к ресурсам.\n"
     ]
    }
   ],
   "source": [
    "print(answer['choices'][0]['message']['content'])"
   ]
  },
  {
   "cell_type": "code",
   "execution_count": null,
   "id": "49a7a748",
   "metadata": {},
   "outputs": [],
   "source": []
  },
  {
   "cell_type": "code",
   "execution_count": null,
   "id": "6a8d1c0c",
   "metadata": {},
   "outputs": [],
   "source": []
  },
  {
   "cell_type": "code",
   "execution_count": null,
   "id": "df4060a8",
   "metadata": {},
   "outputs": [],
   "source": []
  },
  {
   "cell_type": "code",
   "execution_count": null,
   "id": "9eec7cf2",
   "metadata": {},
   "outputs": [],
   "source": []
  }
 ],
 "metadata": {
  "kernelspec": {
   "display_name": ".venv",
   "language": "python",
   "name": "python3"
  },
  "language_info": {
   "codemirror_mode": {
    "name": "ipython",
    "version": 3
   },
   "file_extension": ".py",
   "mimetype": "text/x-python",
   "name": "python",
   "nbconvert_exporter": "python",
   "pygments_lexer": "ipython3",
   "version": "3.11.11"
  }
 },
 "nbformat": 4,
 "nbformat_minor": 5
}
